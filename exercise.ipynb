{
 "cells": [
  {
   "cell_type": "code",
   "execution_count": 179,
   "metadata": {},
   "outputs": [],
   "source": [
    "import pandas as pd\n",
    "import numpy as np\n",
    "import matplotlib.pyplot as plt\n",
    "from matplotlib.pyplot import figure\n",
    "import seaborn as sns\n",
    "\n",
    "from sklearn.model_selection import train_test_split\n",
    "from sklearn.linear_model import LogisticRegression\n",
    "from sklearn import metrics\n",
    "\n",
    "import statsmodels.api as sm\n",
    "import math"
   ]
  },
  {
   "cell_type": "code",
   "execution_count": 185,
   "metadata": {},
   "outputs": [],
   "source": [
    "# Read in the data and convert datetimes\n",
    "dat = pd.read_csv('driver_model_dataset_v1 (1).csv')\n",
    "\n",
    "dat['first_completed_trip_timestamp'] = pd.to_datetime(dat['first_completed_trip_timestamp'])\n",
    "dat['signup_timestamp'] = pd.to_datetime(dat['signup_timestamp'])\n",
    "dat['bgc_date'] = pd.to_datetime(dat['bgc_date'])\n",
    "dat['vehicle_added_date'] = pd.to_datetime(dat['vehicle_added_date'])"
   ]
  },
  {
   "cell_type": "code",
   "execution_count": 186,
   "metadata": {},
   "outputs": [
    {
     "data": {
      "text/html": [
       "<div>\n",
       "<style scoped>\n",
       "    .dataframe tbody tr th:only-of-type {\n",
       "        vertical-align: middle;\n",
       "    }\n",
       "\n",
       "    .dataframe tbody tr th {\n",
       "        vertical-align: top;\n",
       "    }\n",
       "\n",
       "    .dataframe thead th {\n",
       "        text-align: right;\n",
       "    }\n",
       "</style>\n",
       "<table border=\"1\" class=\"dataframe\">\n",
       "  <thead>\n",
       "    <tr style=\"text-align: right;\">\n",
       "      <th></th>\n",
       "      <th>id</th>\n",
       "      <th>city_name</th>\n",
       "      <th>signup_os</th>\n",
       "      <th>signup_channel</th>\n",
       "      <th>signup_timestamp</th>\n",
       "      <th>bgc_date</th>\n",
       "      <th>vehicle_added_date</th>\n",
       "      <th>vehicle_make</th>\n",
       "      <th>vehicle_model</th>\n",
       "      <th>vehicle_year</th>\n",
       "      <th>first_completed_trip_timestamp</th>\n",
       "    </tr>\n",
       "  </thead>\n",
       "  <tbody>\n",
       "    <tr>\n",
       "      <th>0</th>\n",
       "      <td>082befb0-c1de-4c14-8700-94a7943a7545</td>\n",
       "      <td>Strark</td>\n",
       "      <td>NaN</td>\n",
       "      <td>R2D</td>\n",
       "      <td>2017-07-06 20:42:17</td>\n",
       "      <td>NaT</td>\n",
       "      <td>2017-07-06 20:42:56</td>\n",
       "      <td>Volkswagen</td>\n",
       "      <td>CC</td>\n",
       "      <td>2012</td>\n",
       "      <td>NaT</td>\n",
       "    </tr>\n",
       "    <tr>\n",
       "      <th>1</th>\n",
       "      <td>1ae6156f-63fc-40cf-9734-0995978c4b6e</td>\n",
       "      <td>Berton</td>\n",
       "      <td>ios web</td>\n",
       "      <td>Dost</td>\n",
       "      <td>2017-07-03 17:41:07</td>\n",
       "      <td>2017-07-03 17:42:06</td>\n",
       "      <td>2017-07-03 17:41:14</td>\n",
       "      <td>Toyota</td>\n",
       "      <td>4Runner</td>\n",
       "      <td>2003</td>\n",
       "      <td>2017-07-23 00:26:50</td>\n",
       "    </tr>\n",
       "    <tr>\n",
       "      <th>2</th>\n",
       "      <td>2a4a4eef-14ef-4ceb-82eb-66f1f7d0d219</td>\n",
       "      <td>Berton</td>\n",
       "      <td>NaN</td>\n",
       "      <td>R2D</td>\n",
       "      <td>2017-07-10 22:55:29</td>\n",
       "      <td>NaT</td>\n",
       "      <td>2017-07-11 17:44:44</td>\n",
       "      <td>Hyundai</td>\n",
       "      <td>Elantra</td>\n",
       "      <td>2015</td>\n",
       "      <td>NaT</td>\n",
       "    </tr>\n",
       "    <tr>\n",
       "      <th>3</th>\n",
       "      <td>56fe7597-3ad8-4798-8be8-5fbc4e2d3151</td>\n",
       "      <td>Berton</td>\n",
       "      <td>ios web</td>\n",
       "      <td>Referral</td>\n",
       "      <td>2017-07-27 18:27:21</td>\n",
       "      <td>2017-07-27 18:31:43</td>\n",
       "      <td>2017-07-27 18:31:09</td>\n",
       "      <td>Honda</td>\n",
       "      <td>Civic</td>\n",
       "      <td>2017</td>\n",
       "      <td>2017-07-31 04:07:24</td>\n",
       "    </tr>\n",
       "    <tr>\n",
       "      <th>4</th>\n",
       "      <td>67370341-68a5-415f-acf2-be58832a8f9c</td>\n",
       "      <td>Wrouver</td>\n",
       "      <td>other</td>\n",
       "      <td>Referral</td>\n",
       "      <td>2017-07-17 22:20:35</td>\n",
       "      <td>2017-07-17 22:21:09</td>\n",
       "      <td>2017-07-17 22:20:53</td>\n",
       "      <td>Honda</td>\n",
       "      <td>Accord</td>\n",
       "      <td>1999</td>\n",
       "      <td>NaT</td>\n",
       "    </tr>\n",
       "  </tbody>\n",
       "</table>\n",
       "</div>"
      ],
      "text/plain": [
       "                                     id city_name signup_os signup_channel  \\\n",
       "0  082befb0-c1de-4c14-8700-94a7943a7545    Strark       NaN            R2D   \n",
       "1  1ae6156f-63fc-40cf-9734-0995978c4b6e    Berton   ios web           Dost   \n",
       "2  2a4a4eef-14ef-4ceb-82eb-66f1f7d0d219    Berton       NaN            R2D   \n",
       "3  56fe7597-3ad8-4798-8be8-5fbc4e2d3151    Berton   ios web       Referral   \n",
       "4  67370341-68a5-415f-acf2-be58832a8f9c   Wrouver     other       Referral   \n",
       "\n",
       "     signup_timestamp            bgc_date  vehicle_added_date vehicle_make  \\\n",
       "0 2017-07-06 20:42:17                 NaT 2017-07-06 20:42:56   Volkswagen   \n",
       "1 2017-07-03 17:41:07 2017-07-03 17:42:06 2017-07-03 17:41:14       Toyota   \n",
       "2 2017-07-10 22:55:29                 NaT 2017-07-11 17:44:44      Hyundai   \n",
       "3 2017-07-27 18:27:21 2017-07-27 18:31:43 2017-07-27 18:31:09        Honda   \n",
       "4 2017-07-17 22:20:35 2017-07-17 22:21:09 2017-07-17 22:20:53        Honda   \n",
       "\n",
       "  vehicle_model  vehicle_year first_completed_trip_timestamp  \n",
       "0            CC          2012                            NaT  \n",
       "1       4Runner          2003            2017-07-23 00:26:50  \n",
       "2       Elantra          2015                            NaT  \n",
       "3         Civic          2017            2017-07-31 04:07:24  \n",
       "4        Accord          1999                            NaT  "
      ]
     },
     "execution_count": 186,
     "metadata": {},
     "output_type": "execute_result"
    }
   ],
   "source": [
    "dat.head()"
   ]
  },
  {
   "cell_type": "markdown",
   "metadata": {},
   "source": [
    "# Data Cleaning"
   ]
  },
  {
   "cell_type": "code",
   "execution_count": 187,
   "metadata": {},
   "outputs": [
    {
     "data": {
      "text/html": [
       "<div>\n",
       "<style scoped>\n",
       "    .dataframe tbody tr th:only-of-type {\n",
       "        vertical-align: middle;\n",
       "    }\n",
       "\n",
       "    .dataframe tbody tr th {\n",
       "        vertical-align: top;\n",
       "    }\n",
       "\n",
       "    .dataframe thead th {\n",
       "        text-align: right;\n",
       "    }\n",
       "</style>\n",
       "<table border=\"1\" class=\"dataframe\">\n",
       "  <thead>\n",
       "    <tr style=\"text-align: right;\">\n",
       "      <th></th>\n",
       "      <th>cols</th>\n",
       "      <th>missing_count</th>\n",
       "      <th>total_rows</th>\n",
       "    </tr>\n",
       "  </thead>\n",
       "  <tbody>\n",
       "    <tr>\n",
       "      <th>0</th>\n",
       "      <td>id</td>\n",
       "      <td>0</td>\n",
       "      <td>12357</td>\n",
       "    </tr>\n",
       "    <tr>\n",
       "      <th>1</th>\n",
       "      <td>city_name</td>\n",
       "      <td>0</td>\n",
       "      <td>12357</td>\n",
       "    </tr>\n",
       "    <tr>\n",
       "      <th>2</th>\n",
       "      <td>signup_os</td>\n",
       "      <td>5404</td>\n",
       "      <td>12357</td>\n",
       "    </tr>\n",
       "    <tr>\n",
       "      <th>3</th>\n",
       "      <td>signup_channel</td>\n",
       "      <td>1214</td>\n",
       "      <td>12357</td>\n",
       "    </tr>\n",
       "    <tr>\n",
       "      <th>4</th>\n",
       "      <td>signup_timestamp</td>\n",
       "      <td>1163</td>\n",
       "      <td>12357</td>\n",
       "    </tr>\n",
       "    <tr>\n",
       "      <th>5</th>\n",
       "      <td>bgc_date</td>\n",
       "      <td>4554</td>\n",
       "      <td>12357</td>\n",
       "    </tr>\n",
       "    <tr>\n",
       "      <th>6</th>\n",
       "      <td>vehicle_added_date</td>\n",
       "      <td>1236</td>\n",
       "      <td>12357</td>\n",
       "    </tr>\n",
       "    <tr>\n",
       "      <th>7</th>\n",
       "      <td>vehicle_make</td>\n",
       "      <td>630</td>\n",
       "      <td>12357</td>\n",
       "    </tr>\n",
       "    <tr>\n",
       "      <th>8</th>\n",
       "      <td>vehicle_model</td>\n",
       "      <td>0</td>\n",
       "      <td>12357</td>\n",
       "    </tr>\n",
       "    <tr>\n",
       "      <th>9</th>\n",
       "      <td>vehicle_year</td>\n",
       "      <td>0</td>\n",
       "      <td>12357</td>\n",
       "    </tr>\n",
       "    <tr>\n",
       "      <th>10</th>\n",
       "      <td>first_completed_trip_timestamp</td>\n",
       "      <td>5567</td>\n",
       "      <td>12357</td>\n",
       "    </tr>\n",
       "  </tbody>\n",
       "</table>\n",
       "</div>"
      ],
      "text/plain": [
       "                              cols  missing_count  total_rows\n",
       "0                               id              0       12357\n",
       "1                        city_name              0       12357\n",
       "2                        signup_os           5404       12357\n",
       "3                   signup_channel           1214       12357\n",
       "4                 signup_timestamp           1163       12357\n",
       "5                         bgc_date           4554       12357\n",
       "6               vehicle_added_date           1236       12357\n",
       "7                     vehicle_make            630       12357\n",
       "8                    vehicle_model              0       12357\n",
       "9                     vehicle_year              0       12357\n",
       "10  first_completed_trip_timestamp           5567       12357"
      ]
     },
     "execution_count": 187,
     "metadata": {},
     "output_type": "execute_result"
    }
   ],
   "source": [
    "pd.DataFrame({'cols': dat.columns, 'missing_count': [dat[x].isnull().sum() for x in dat.columns], 'total_rows':len(dat['id'])})"
   ]
  },
  {
   "cell_type": "code",
   "execution_count": 188,
   "metadata": {},
   "outputs": [],
   "source": [
    "dat.duplicated().describe()\n",
    "# There are some duplicate rows in the dataframe, drop them\n",
    "dat = dat.drop_duplicates()\n",
    "\n",
    "dat['signup_timestamp'].isnull().sum()\n",
    "# There are records where the driver hasn't signed up, so these must be excluded\n",
    "dat = dat[-dat['signup_timestamp'].isnull()]"
   ]
  },
  {
   "cell_type": "code",
   "execution_count": 189,
   "metadata": {},
   "outputs": [],
   "source": [
    "# calculate a time to first completed trip in days\n",
    "dat['time_to_first_trip'] = (dat['first_completed_trip_timestamp'] - dat['signup_timestamp']).dt.days\n",
    "\n",
    "# calculate response variable: first trip completed in < 30 days\n",
    "dat['y'] = np.where(dat['time_to_first_trip'] <= 30, 1, 0)"
   ]
  },
  {
   "cell_type": "code",
   "execution_count": 190,
   "metadata": {},
   "outputs": [
    {
     "data": {
      "text/plain": [
       "0"
      ]
     },
     "execution_count": 190,
     "metadata": {},
     "output_type": "execute_result"
    }
   ],
   "source": [
    "# calculate the total time since signing up in days\n",
    "# assume the max date of all the timestamp columns is the day the data was pulled\n",
    "max_date = np.max([np.max(dat['signup_timestamp']), np.max(dat['bgc_date']), np.max(dat['vehicle_added_date']), np.max(dat['first_completed_trip_timestamp'])])\n",
    "dat['time_since_signup'] = (max_date - dat['signup_timestamp']).dt.days\n",
    "\n",
    "len(dat.loc[dat['time_since_signup'] <= 30])\n",
    "# There are no rows that have a signup date less than 30 days ago (which would be censored rows)"
   ]
  },
  {
   "cell_type": "code",
   "execution_count": 191,
   "metadata": {},
   "outputs": [
    {
     "data": {
      "text/html": [
       "<div>\n",
       "<style scoped>\n",
       "    .dataframe tbody tr th:only-of-type {\n",
       "        vertical-align: middle;\n",
       "    }\n",
       "\n",
       "    .dataframe tbody tr th {\n",
       "        vertical-align: top;\n",
       "    }\n",
       "\n",
       "    .dataframe thead th {\n",
       "        text-align: right;\n",
       "    }\n",
       "</style>\n",
       "<table border=\"1\" class=\"dataframe\">\n",
       "  <thead>\n",
       "    <tr style=\"text-align: right;\">\n",
       "      <th></th>\n",
       "      <th>id</th>\n",
       "      <th>city_name</th>\n",
       "      <th>signup_os</th>\n",
       "      <th>signup_channel</th>\n",
       "      <th>signup_timestamp</th>\n",
       "      <th>bgc_date</th>\n",
       "      <th>vehicle_added_date</th>\n",
       "      <th>vehicle_make</th>\n",
       "      <th>vehicle_model</th>\n",
       "      <th>vehicle_year</th>\n",
       "      <th>first_completed_trip_timestamp</th>\n",
       "      <th>time_to_first_trip</th>\n",
       "      <th>y</th>\n",
       "      <th>time_since_signup</th>\n",
       "    </tr>\n",
       "  </thead>\n",
       "  <tbody>\n",
       "    <tr>\n",
       "      <th>0</th>\n",
       "      <td>082befb0-c1de-4c14-8700-94a7943a7545</td>\n",
       "      <td>Strark</td>\n",
       "      <td>NaN</td>\n",
       "      <td>R2D</td>\n",
       "      <td>2017-07-06 20:42:17</td>\n",
       "      <td>NaT</td>\n",
       "      <td>2017-07-06 20:42:56</td>\n",
       "      <td>Volkswagen</td>\n",
       "      <td>CC</td>\n",
       "      <td>2012</td>\n",
       "      <td>NaT</td>\n",
       "      <td>NaN</td>\n",
       "      <td>0</td>\n",
       "      <td>91</td>\n",
       "    </tr>\n",
       "    <tr>\n",
       "      <th>1</th>\n",
       "      <td>1ae6156f-63fc-40cf-9734-0995978c4b6e</td>\n",
       "      <td>Berton</td>\n",
       "      <td>ios web</td>\n",
       "      <td>Dost</td>\n",
       "      <td>2017-07-03 17:41:07</td>\n",
       "      <td>2017-07-03 17:42:06</td>\n",
       "      <td>2017-07-03 17:41:14</td>\n",
       "      <td>Toyota</td>\n",
       "      <td>4Runner</td>\n",
       "      <td>2003</td>\n",
       "      <td>2017-07-23 00:26:50</td>\n",
       "      <td>19.0</td>\n",
       "      <td>1</td>\n",
       "      <td>94</td>\n",
       "    </tr>\n",
       "    <tr>\n",
       "      <th>2</th>\n",
       "      <td>2a4a4eef-14ef-4ceb-82eb-66f1f7d0d219</td>\n",
       "      <td>Berton</td>\n",
       "      <td>NaN</td>\n",
       "      <td>R2D</td>\n",
       "      <td>2017-07-10 22:55:29</td>\n",
       "      <td>NaT</td>\n",
       "      <td>2017-07-11 17:44:44</td>\n",
       "      <td>Hyundai</td>\n",
       "      <td>Elantra</td>\n",
       "      <td>2015</td>\n",
       "      <td>NaT</td>\n",
       "      <td>NaN</td>\n",
       "      <td>0</td>\n",
       "      <td>87</td>\n",
       "    </tr>\n",
       "    <tr>\n",
       "      <th>3</th>\n",
       "      <td>56fe7597-3ad8-4798-8be8-5fbc4e2d3151</td>\n",
       "      <td>Berton</td>\n",
       "      <td>ios web</td>\n",
       "      <td>Referral</td>\n",
       "      <td>2017-07-27 18:27:21</td>\n",
       "      <td>2017-07-27 18:31:43</td>\n",
       "      <td>2017-07-27 18:31:09</td>\n",
       "      <td>Honda</td>\n",
       "      <td>Civic</td>\n",
       "      <td>2017</td>\n",
       "      <td>2017-07-31 04:07:24</td>\n",
       "      <td>3.0</td>\n",
       "      <td>1</td>\n",
       "      <td>70</td>\n",
       "    </tr>\n",
       "    <tr>\n",
       "      <th>4</th>\n",
       "      <td>67370341-68a5-415f-acf2-be58832a8f9c</td>\n",
       "      <td>Wrouver</td>\n",
       "      <td>other</td>\n",
       "      <td>Referral</td>\n",
       "      <td>2017-07-17 22:20:35</td>\n",
       "      <td>2017-07-17 22:21:09</td>\n",
       "      <td>2017-07-17 22:20:53</td>\n",
       "      <td>Honda</td>\n",
       "      <td>Accord</td>\n",
       "      <td>1999</td>\n",
       "      <td>NaT</td>\n",
       "      <td>NaN</td>\n",
       "      <td>0</td>\n",
       "      <td>80</td>\n",
       "    </tr>\n",
       "  </tbody>\n",
       "</table>\n",
       "</div>"
      ],
      "text/plain": [
       "                                     id city_name signup_os signup_channel  \\\n",
       "0  082befb0-c1de-4c14-8700-94a7943a7545    Strark       NaN            R2D   \n",
       "1  1ae6156f-63fc-40cf-9734-0995978c4b6e    Berton   ios web           Dost   \n",
       "2  2a4a4eef-14ef-4ceb-82eb-66f1f7d0d219    Berton       NaN            R2D   \n",
       "3  56fe7597-3ad8-4798-8be8-5fbc4e2d3151    Berton   ios web       Referral   \n",
       "4  67370341-68a5-415f-acf2-be58832a8f9c   Wrouver     other       Referral   \n",
       "\n",
       "     signup_timestamp            bgc_date  vehicle_added_date vehicle_make  \\\n",
       "0 2017-07-06 20:42:17                 NaT 2017-07-06 20:42:56   Volkswagen   \n",
       "1 2017-07-03 17:41:07 2017-07-03 17:42:06 2017-07-03 17:41:14       Toyota   \n",
       "2 2017-07-10 22:55:29                 NaT 2017-07-11 17:44:44      Hyundai   \n",
       "3 2017-07-27 18:27:21 2017-07-27 18:31:43 2017-07-27 18:31:09        Honda   \n",
       "4 2017-07-17 22:20:35 2017-07-17 22:21:09 2017-07-17 22:20:53        Honda   \n",
       "\n",
       "  vehicle_model  vehicle_year first_completed_trip_timestamp  \\\n",
       "0            CC          2012                            NaT   \n",
       "1       4Runner          2003            2017-07-23 00:26:50   \n",
       "2       Elantra          2015                            NaT   \n",
       "3         Civic          2017            2017-07-31 04:07:24   \n",
       "4        Accord          1999                            NaT   \n",
       "\n",
       "   time_to_first_trip  y  time_since_signup  \n",
       "0                 NaN  0                 91  \n",
       "1                19.0  1                 94  \n",
       "2                 NaN  0                 87  \n",
       "3                 3.0  1                 70  \n",
       "4                 NaN  0                 80  "
      ]
     },
     "execution_count": 191,
     "metadata": {},
     "output_type": "execute_result"
    }
   ],
   "source": [
    "dat.head()"
   ]
  },
  {
   "cell_type": "code",
   "execution_count": 192,
   "metadata": {},
   "outputs": [
    {
     "data": {
      "text/html": [
       "<div>\n",
       "<style scoped>\n",
       "    .dataframe tbody tr th:only-of-type {\n",
       "        vertical-align: middle;\n",
       "    }\n",
       "\n",
       "    .dataframe tbody tr th {\n",
       "        vertical-align: top;\n",
       "    }\n",
       "\n",
       "    .dataframe thead th {\n",
       "        text-align: right;\n",
       "    }\n",
       "</style>\n",
       "<table border=\"1\" class=\"dataframe\">\n",
       "  <thead>\n",
       "    <tr style=\"text-align: right;\">\n",
       "      <th></th>\n",
       "      <th>cols</th>\n",
       "      <th>missing_count</th>\n",
       "      <th>total_rows</th>\n",
       "    </tr>\n",
       "  </thead>\n",
       "  <tbody>\n",
       "    <tr>\n",
       "      <th>0</th>\n",
       "      <td>id</td>\n",
       "      <td>0</td>\n",
       "      <td>10823</td>\n",
       "    </tr>\n",
       "    <tr>\n",
       "      <th>1</th>\n",
       "      <td>city_name</td>\n",
       "      <td>0</td>\n",
       "      <td>10823</td>\n",
       "    </tr>\n",
       "    <tr>\n",
       "      <th>2</th>\n",
       "      <td>signup_os</td>\n",
       "      <td>4728</td>\n",
       "      <td>10823</td>\n",
       "    </tr>\n",
       "    <tr>\n",
       "      <th>3</th>\n",
       "      <td>signup_channel</td>\n",
       "      <td>1108</td>\n",
       "      <td>10823</td>\n",
       "    </tr>\n",
       "    <tr>\n",
       "      <th>4</th>\n",
       "      <td>signup_timestamp</td>\n",
       "      <td>0</td>\n",
       "      <td>10823</td>\n",
       "    </tr>\n",
       "    <tr>\n",
       "      <th>5</th>\n",
       "      <td>bgc_date</td>\n",
       "      <td>3977</td>\n",
       "      <td>10823</td>\n",
       "    </tr>\n",
       "    <tr>\n",
       "      <th>6</th>\n",
       "      <td>vehicle_added_date</td>\n",
       "      <td>1105</td>\n",
       "      <td>10823</td>\n",
       "    </tr>\n",
       "    <tr>\n",
       "      <th>7</th>\n",
       "      <td>vehicle_make</td>\n",
       "      <td>575</td>\n",
       "      <td>10823</td>\n",
       "    </tr>\n",
       "    <tr>\n",
       "      <th>8</th>\n",
       "      <td>vehicle_model</td>\n",
       "      <td>0</td>\n",
       "      <td>10823</td>\n",
       "    </tr>\n",
       "    <tr>\n",
       "      <th>9</th>\n",
       "      <td>vehicle_year</td>\n",
       "      <td>0</td>\n",
       "      <td>10823</td>\n",
       "    </tr>\n",
       "    <tr>\n",
       "      <th>10</th>\n",
       "      <td>first_completed_trip_timestamp</td>\n",
       "      <td>4945</td>\n",
       "      <td>10823</td>\n",
       "    </tr>\n",
       "    <tr>\n",
       "      <th>11</th>\n",
       "      <td>time_to_first_trip</td>\n",
       "      <td>4945</td>\n",
       "      <td>10823</td>\n",
       "    </tr>\n",
       "    <tr>\n",
       "      <th>12</th>\n",
       "      <td>y</td>\n",
       "      <td>0</td>\n",
       "      <td>10823</td>\n",
       "    </tr>\n",
       "    <tr>\n",
       "      <th>13</th>\n",
       "      <td>time_since_signup</td>\n",
       "      <td>0</td>\n",
       "      <td>10823</td>\n",
       "    </tr>\n",
       "  </tbody>\n",
       "</table>\n",
       "</div>"
      ],
      "text/plain": [
       "                              cols  missing_count  total_rows\n",
       "0                               id              0       10823\n",
       "1                        city_name              0       10823\n",
       "2                        signup_os           4728       10823\n",
       "3                   signup_channel           1108       10823\n",
       "4                 signup_timestamp              0       10823\n",
       "5                         bgc_date           3977       10823\n",
       "6               vehicle_added_date           1105       10823\n",
       "7                     vehicle_make            575       10823\n",
       "8                    vehicle_model              0       10823\n",
       "9                     vehicle_year              0       10823\n",
       "10  first_completed_trip_timestamp           4945       10823\n",
       "11              time_to_first_trip           4945       10823\n",
       "12                               y              0       10823\n",
       "13               time_since_signup              0       10823"
      ]
     },
     "execution_count": 192,
     "metadata": {},
     "output_type": "execute_result"
    }
   ],
   "source": [
    "pd.DataFrame({'cols': dat.columns, 'missing_count': [dat[x].isnull().sum() for x in dat.columns], 'total_rows':len(dat['id'])})"
   ]
  },
  {
   "cell_type": "code",
   "execution_count": 193,
   "metadata": {},
   "outputs": [],
   "source": [
    "# Remove signups without a background check and vehicle signup.  I assume these aren't serious signups, because these are requirements to drive\n",
    "dat = dat.dropna(subset=['bgc_date', 'vehicle_added_date'])\n",
    "\n",
    "# Change the remaining missing values to \"unknown\"\n",
    "dat = dat.fillna('unknown')"
   ]
  },
  {
   "cell_type": "code",
   "execution_count": 194,
   "metadata": {},
   "outputs": [
    {
     "data": {
      "text/html": [
       "<div>\n",
       "<style scoped>\n",
       "    .dataframe tbody tr th:only-of-type {\n",
       "        vertical-align: middle;\n",
       "    }\n",
       "\n",
       "    .dataframe tbody tr th {\n",
       "        vertical-align: top;\n",
       "    }\n",
       "\n",
       "    .dataframe thead th {\n",
       "        text-align: right;\n",
       "    }\n",
       "</style>\n",
       "<table border=\"1\" class=\"dataframe\">\n",
       "  <thead>\n",
       "    <tr style=\"text-align: right;\">\n",
       "      <th></th>\n",
       "      <th>cols</th>\n",
       "      <th>missing_count</th>\n",
       "      <th>total_rows</th>\n",
       "    </tr>\n",
       "  </thead>\n",
       "  <tbody>\n",
       "    <tr>\n",
       "      <th>0</th>\n",
       "      <td>id</td>\n",
       "      <td>0</td>\n",
       "      <td>6138</td>\n",
       "    </tr>\n",
       "    <tr>\n",
       "      <th>1</th>\n",
       "      <td>city_name</td>\n",
       "      <td>0</td>\n",
       "      <td>6138</td>\n",
       "    </tr>\n",
       "    <tr>\n",
       "      <th>2</th>\n",
       "      <td>signup_os</td>\n",
       "      <td>0</td>\n",
       "      <td>6138</td>\n",
       "    </tr>\n",
       "    <tr>\n",
       "      <th>3</th>\n",
       "      <td>signup_channel</td>\n",
       "      <td>0</td>\n",
       "      <td>6138</td>\n",
       "    </tr>\n",
       "    <tr>\n",
       "      <th>4</th>\n",
       "      <td>signup_timestamp</td>\n",
       "      <td>0</td>\n",
       "      <td>6138</td>\n",
       "    </tr>\n",
       "    <tr>\n",
       "      <th>5</th>\n",
       "      <td>bgc_date</td>\n",
       "      <td>0</td>\n",
       "      <td>6138</td>\n",
       "    </tr>\n",
       "    <tr>\n",
       "      <th>6</th>\n",
       "      <td>vehicle_added_date</td>\n",
       "      <td>0</td>\n",
       "      <td>6138</td>\n",
       "    </tr>\n",
       "    <tr>\n",
       "      <th>7</th>\n",
       "      <td>vehicle_make</td>\n",
       "      <td>0</td>\n",
       "      <td>6138</td>\n",
       "    </tr>\n",
       "    <tr>\n",
       "      <th>8</th>\n",
       "      <td>vehicle_model</td>\n",
       "      <td>0</td>\n",
       "      <td>6138</td>\n",
       "    </tr>\n",
       "    <tr>\n",
       "      <th>9</th>\n",
       "      <td>vehicle_year</td>\n",
       "      <td>0</td>\n",
       "      <td>6138</td>\n",
       "    </tr>\n",
       "    <tr>\n",
       "      <th>10</th>\n",
       "      <td>first_completed_trip_timestamp</td>\n",
       "      <td>0</td>\n",
       "      <td>6138</td>\n",
       "    </tr>\n",
       "    <tr>\n",
       "      <th>11</th>\n",
       "      <td>time_to_first_trip</td>\n",
       "      <td>0</td>\n",
       "      <td>6138</td>\n",
       "    </tr>\n",
       "    <tr>\n",
       "      <th>12</th>\n",
       "      <td>y</td>\n",
       "      <td>0</td>\n",
       "      <td>6138</td>\n",
       "    </tr>\n",
       "    <tr>\n",
       "      <th>13</th>\n",
       "      <td>time_since_signup</td>\n",
       "      <td>0</td>\n",
       "      <td>6138</td>\n",
       "    </tr>\n",
       "  </tbody>\n",
       "</table>\n",
       "</div>"
      ],
      "text/plain": [
       "                              cols  missing_count  total_rows\n",
       "0                               id              0        6138\n",
       "1                        city_name              0        6138\n",
       "2                        signup_os              0        6138\n",
       "3                   signup_channel              0        6138\n",
       "4                 signup_timestamp              0        6138\n",
       "5                         bgc_date              0        6138\n",
       "6               vehicle_added_date              0        6138\n",
       "7                     vehicle_make              0        6138\n",
       "8                    vehicle_model              0        6138\n",
       "9                     vehicle_year              0        6138\n",
       "10  first_completed_trip_timestamp              0        6138\n",
       "11              time_to_first_trip              0        6138\n",
       "12                               y              0        6138\n",
       "13               time_since_signup              0        6138"
      ]
     },
     "execution_count": 194,
     "metadata": {},
     "output_type": "execute_result"
    }
   ],
   "source": [
    "pd.DataFrame({'cols': dat.columns, 'missing_count': [dat[x].isnull().sum() for x in dat.columns], 'total_rows':len(dat['id'])})"
   ]
  },
  {
   "cell_type": "markdown",
   "metadata": {},
   "source": [
    "# Data Exploration and Visualizations"
   ]
  },
  {
   "cell_type": "code",
   "execution_count": 195,
   "metadata": {},
   "outputs": [
    {
     "data": {
      "text/plain": [
       "y\n",
       "0    2704\n",
       "1    3434\n",
       "Name: id, dtype: int64"
      ]
     },
     "execution_count": 195,
     "metadata": {},
     "output_type": "execute_result"
    }
   ],
   "source": [
    "# Explore data balance\n",
    "dat.groupby('y').count()['id']"
   ]
  },
  {
   "cell_type": "code",
   "execution_count": 196,
   "metadata": {},
   "outputs": [
    {
     "data": {
      "text/plain": [
       "0.559465623981753"
      ]
     },
     "execution_count": 196,
     "metadata": {},
     "output_type": "execute_result"
    }
   ],
   "source": [
    "# Fraction of signups that completed a successful first trip\n",
    "3434 / (3434 + 2704)"
   ]
  },
  {
   "cell_type": "code",
   "execution_count": 197,
   "metadata": {},
   "outputs": [],
   "source": [
    "# There are more 1's than 0's, so fix the class imbalance by random down selection\n",
    "dat_model = dat.loc[dat['y'] == 1].sample(n=2704)\n",
    "dat_model = dat_model.append(dat.loc[dat['y'] == 0]).reset_index()"
   ]
  },
  {
   "cell_type": "code",
   "execution_count": 198,
   "metadata": {},
   "outputs": [
    {
     "data": {
      "text/plain": [
       "y\n",
       "0    2704\n",
       "1    2704\n",
       "Name: id, dtype: int64"
      ]
     },
     "execution_count": 198,
     "metadata": {},
     "output_type": "execute_result"
    }
   ],
   "source": [
    "dat_model.groupby('y').count()['id']"
   ]
  },
  {
   "cell_type": "code",
   "execution_count": 199,
   "metadata": {},
   "outputs": [
    {
     "data": {
      "text/plain": [
       "array(['Honda', 'Dodge', 'Honda', ..., 'Toyota', 'Nissan', 'Other'],\n",
       "      dtype=object)"
      ]
     },
     "execution_count": 199,
     "metadata": {},
     "output_type": "execute_result"
    }
   ],
   "source": [
    "top_9 = pd.value_counts(dat_model['vehicle_make']).iloc[:9].index\n",
    "np.where(dat_model['vehicle_make'].isin(top_9) == False, 'Other', dat_model['vehicle_make'])"
   ]
  },
  {
   "cell_type": "code",
   "execution_count": 200,
   "metadata": {},
   "outputs": [
    {
     "data": {
      "text/plain": [
       "[Text(0.5,0,'Vehicle Make')]"
      ]
     },
     "execution_count": 200,
     "metadata": {},
     "output_type": "execute_result"
    },
    {
     "data": {
      "image/png": "[encoded data removed]",
      "text/plain": [
       "<matplotlib.figure.Figure at 0x2136a2beef0>"
      ]
     },
     "metadata": {},
     "output_type": "display_data"
    }
   ],
   "source": [
    "# Explore the vehicle make\n",
    "dat_model['vehicle_make'].drop_duplicates().count()\n",
    "# There are too many vehicle makes (48). Select top 9 and bucket the rest in \"other\"\n",
    "top_9 = pd.value_counts(dat_model['vehicle_make']).iloc[:9].index\n",
    "dat_model['vehicle_make'] = np.where(dat_model['vehicle_make'].isin(top_9) == False, 'Other', dat_model['vehicle_make'])\n",
    "\n",
    "# Plot top 10 vehicle makes by response\n",
    "plt.rcParams['figure.figsize'] = [12,4]\n",
    "ax = sns.countplot(x='vehicle_make', hue='y', data=dat_model, order=pd.value_counts(dat_model['vehicle_make']).index)\n",
    "ax.set(xlabel='Vehicle Make')"
   ]
  },
  {
   "cell_type": "code",
   "execution_count": 201,
   "metadata": {},
   "outputs": [
    {
     "data": {
      "image/png": "[encoded data removed]",
      "text/plain": [
       "<matplotlib.figure.Figure at 0x2136bfb7be0>"
      ]
     },
     "metadata": {},
     "output_type": "display_data"
    }
   ],
   "source": [
    "# Explore times between signup and bgc\n",
    "dat_model['time_to_bgc'] = (dat_model['bgc_date'] - dat_model['signup_timestamp']).dt.seconds\n",
    "\n",
    "plt.hist(dat_model['time_to_bgc'].loc[dat_model['y'] == 0], label='0', bins=50, alpha=0.5, range=[0,600])\n",
    "plt.hist(dat_model['time_to_bgc'].loc[dat_model['y'] == 1], label='1', bins=50, alpha=0.5, range=[0,600])\n",
    "plt.xlabel('Seconds After Signup')\n",
    "plt.title('Time Until Background Check after Signup (First 10 Minutes)')\n",
    "plt.legend()\n",
    "plt.show()"
   ]
  },
  {
   "cell_type": "code",
   "execution_count": 202,
   "metadata": {},
   "outputs": [
    {
     "data": {
      "text/html": [
       "<div>\n",
       "<style scoped>\n",
       "    .dataframe tbody tr th:only-of-type {\n",
       "        vertical-align: middle;\n",
       "    }\n",
       "\n",
       "    .dataframe tbody tr th {\n",
       "        vertical-align: top;\n",
       "    }\n",
       "\n",
       "    .dataframe thead th {\n",
       "        text-align: right;\n",
       "    }\n",
       "</style>\n",
       "<table border=\"1\" class=\"dataframe\">\n",
       "  <thead>\n",
       "    <tr style=\"text-align: right;\">\n",
       "      <th></th>\n",
       "      <th>count</th>\n",
       "      <th>mean</th>\n",
       "      <th>std</th>\n",
       "      <th>min</th>\n",
       "      <th>25%</th>\n",
       "      <th>50%</th>\n",
       "      <th>75%</th>\n",
       "      <th>max</th>\n",
       "    </tr>\n",
       "    <tr>\n",
       "      <th>y</th>\n",
       "      <th></th>\n",
       "      <th></th>\n",
       "      <th></th>\n",
       "      <th></th>\n",
       "      <th></th>\n",
       "      <th></th>\n",
       "      <th></th>\n",
       "      <th></th>\n",
       "    </tr>\n",
       "  </thead>\n",
       "  <tbody>\n",
       "    <tr>\n",
       "      <th>0</th>\n",
       "      <td>2704.0</td>\n",
       "      <td>3549.06</td>\n",
       "      <td>14087.02</td>\n",
       "      <td>13.0</td>\n",
       "      <td>40.0</td>\n",
       "      <td>67.0</td>\n",
       "      <td>136.25</td>\n",
       "      <td>86355.0</td>\n",
       "    </tr>\n",
       "    <tr>\n",
       "      <th>1</th>\n",
       "      <td>2704.0</td>\n",
       "      <td>2124.48</td>\n",
       "      <td>10594.57</td>\n",
       "      <td>11.0</td>\n",
       "      <td>40.0</td>\n",
       "      <td>65.0</td>\n",
       "      <td>127.00</td>\n",
       "      <td>85881.0</td>\n",
       "    </tr>\n",
       "  </tbody>\n",
       "</table>\n",
       "</div>"
      ],
      "text/plain": [
       "    count     mean       std   min   25%   50%     75%      max\n",
       "y                                                              \n",
       "0  2704.0  3549.06  14087.02  13.0  40.0  67.0  136.25  86355.0\n",
       "1  2704.0  2124.48  10594.57  11.0  40.0  65.0  127.00  85881.0"
      ]
     },
     "execution_count": 202,
     "metadata": {},
     "output_type": "execute_result"
    }
   ],
   "source": [
    "round(dat_model.groupby(dat_model['y']).describe()['time_to_bgc'], 2)\n",
    "# The first 10 minutes looks similar, but the mean values are very different"
   ]
  },
  {
   "cell_type": "code",
   "execution_count": 203,
   "metadata": {},
   "outputs": [
    {
     "data": {
      "text/plain": [
       "[Text(0.5,0,'Signup OS')]"
      ]
     },
     "execution_count": 203,
     "metadata": {},
     "output_type": "execute_result"
    },
    {
     "data": {
      "image/png": "[encoded data removed]",
      "text/plain": [
       "<matplotlib.figure.Figure at 0x2136bafa1d0>"
      ]
     },
     "metadata": {},
     "output_type": "display_data"
    }
   ],
   "source": [
    "# Explore the signup os\n",
    "ax = sns.countplot(x='signup_os', hue='y', data=dat_model, order=pd.value_counts(dat_model['signup_os']).index)\n",
    "ax.set(xlabel='Signup OS')\n",
    "# There are some differences here that may help predict"
   ]
  },
  {
   "cell_type": "code",
   "execution_count": 204,
   "metadata": {},
   "outputs": [
    {
     "data": {
      "text/plain": [
       "[Text(0.5,0,'Signup Channel')]"
      ]
     },
     "execution_count": 204,
     "metadata": {},
     "output_type": "execute_result"
    },
    {
     "data": {
      "image/png": "[encoded data removed]",
      "text/plain": [
       "<matplotlib.figure.Figure at 0x2136bc93390>"
      ]
     },
     "metadata": {},
     "output_type": "display_data"
    }
   ],
   "source": [
    "# Explore the signup os\n",
    "ax = sns.countplot(x='signup_channel', hue='y', data=dat_model, order=pd.value_counts(dat_model['signup_channel']).index)\n",
    "ax.set(xlabel='Signup Channel')\n",
    "# There are some differences here that may help predict"
   ]
  },
  {
   "cell_type": "code",
   "execution_count": 205,
   "metadata": {},
   "outputs": [
    {
     "data": {
      "text/plain": [
       "[Text(0.5,0,'City Name')]"
      ]
     },
     "execution_count": 205,
     "metadata": {},
     "output_type": "execute_result"
    },
    {
     "data": {
      "image/png": "[encoded data removed]",
      "text/plain": [
       "<matplotlib.figure.Figure at 0x2136bb14518>"
      ]
     },
     "metadata": {},
     "output_type": "display_data"
    }
   ],
   "source": [
    "# Explore the signup os\n",
    "ax = sns.countplot(x='city_name', hue='y', data=dat_model, order=pd.value_counts(dat_model['city_name']).index)\n",
    "ax.set(xlabel='City Name')\n",
    "# They are all equal, no predictive power"
   ]
  },
  {
   "cell_type": "code",
   "execution_count": 206,
   "metadata": {},
   "outputs": [
    {
     "data": {
      "text/plain": [
       "[Text(0.5,0,'Vehicle Year')]"
      ]
     },
     "execution_count": 206,
     "metadata": {},
     "output_type": "execute_result"
    },
    {
     "data": {
      "image/png": "[encoded data removed]",
      "text/plain": [
       "<matplotlib.figure.Figure at 0x21369a4afd0>"
      ]
     },
     "metadata": {},
     "output_type": "display_data"
    }
   ],
   "source": [
    "# Explore the signup os\n",
    "ax = sns.countplot(x='vehicle_year', hue='y', data=dat_model, order=pd.value_counts(dat_model['vehicle_year']).index)\n",
    "ax.set(xlabel='Vehicle Year')\n",
    "# Newer cars appear more likely to complete first trip"
   ]
  },
  {
   "cell_type": "markdown",
   "metadata": {},
   "source": [
    "# Modeling"
   ]
  },
  {
   "cell_type": "code",
   "execution_count": 212,
   "metadata": {},
   "outputs": [
    {
     "name": "stdout",
     "output_type": "stream",
     "text": [
      "Optimization terminated successfully.\n",
      "         Current function value: 0.679427\n",
      "         Iterations 5\n",
      "                                    Results: Logit\n",
      "======================================================================================\n",
      "Model:                      Logit                   No. Iterations:          5.0000   \n",
      "Dependent Variable:         y                       Pseudo R-squared:        0.020    \n",
      "Date:                       2018-12-09 14:32        AIC:                     5555.5112\n",
      "No. Observations:           4056                    BIC:                     5694.2861\n",
      "Df Model:                   21                      Log-Likelihood:          -2755.8  \n",
      "Df Residuals:               4034                    LL-Null:                 -2811.3  \n",
      "Converged:                  1.0000                  Scale:                   1.0000   \n",
      "--------------------------------------------------------------------------------------\n",
      "                         Coef.     Std.Err.     z    P>|z|      [0.025       0.975]   \n",
      "--------------------------------------------------------------------------------------\n",
      "vehicle_year              0.0188      0.0066  2.8349 0.0046        0.0058       0.0317\n",
      "time_to_bgc              -0.0000      0.0000 -2.8511 0.0044       -0.0000      -0.0000\n",
      "signup_os_android web   -14.5048         nan     nan    nan           nan          nan\n",
      "signup_os_ios web       -14.4908         nan     nan    nan           nan          nan\n",
      "signup_os_mac           -14.7539         nan     nan    nan           nan          nan\n",
      "signup_os_other         -14.5445         nan     nan    nan           nan          nan\n",
      "signup_os_unknown       -14.6153         nan     nan    nan           nan          nan\n",
      "signup_os_windows       -14.4881         nan     nan    nan           nan          nan\n",
      "signup_channel_Dost     -14.6390         nan     nan    nan           nan          nan\n",
      "signup_channel_Organic  -14.7214         nan     nan    nan           nan          nan\n",
      "signup_channel_Paid     -14.7471         nan     nan    nan           nan          nan\n",
      "signup_channel_R2D      -14.8304         nan     nan    nan           nan          nan\n",
      "signup_channel_Referral -14.1764         nan     nan    nan           nan          nan\n",
      "signup_channel_unknown  -14.3892         nan     nan    nan           nan          nan\n",
      "vehicle_make_Chevrolet   -8.8810 891971.0257 -0.0000 1.0000 -1748239.9666 1748222.2046\n",
      "vehicle_make_Dodge       -8.7974 891971.0257 -0.0000 1.0000 -1748239.8830 1748222.2882\n",
      "vehicle_make_Ford        -8.6460 891971.0257 -0.0000 1.0000 -1748239.7316 1748222.4396\n",
      "vehicle_make_Honda       -8.7406 891971.0257 -0.0000 1.0000 -1748239.8262 1748222.3450\n",
      "vehicle_make_Hyundai     -8.8402 891971.0257 -0.0000 1.0000 -1748239.9258 1748222.2454\n",
      "vehicle_make_Kia         -8.7336 891971.0257 -0.0000 1.0000 -1748239.8192 1748222.3520\n",
      "vehicle_make_Nissan      -8.7145 891971.0257 -0.0000 1.0000 -1748239.8001 1748222.3711\n",
      "vehicle_make_Other       -8.7527 891971.0257 -0.0000 1.0000 -1748239.8383 1748222.3329\n",
      "vehicle_make_Toyota      -8.6344 891971.0257 -0.0000 1.0000 -1748239.7200 1748222.4512\n",
      "vehicle_make_unknown     -8.7101 891971.0257 -0.0000 1.0000 -1748239.7957 1748222.3755\n",
      "======================================================================================\n",
      "\n"
     ]
    },
    {
     "name": "stderr",
     "output_type": "stream",
     "text": [
      "C:\\ProgramData\\Anaconda3\\lib\\site-packages\\statsmodels\\base\\model.py:1029: RuntimeWarning: invalid value encountered in sqrt\n",
      "  return np.sqrt(np.diag(self.cov_params()))\n",
      "C:\\ProgramData\\Anaconda3\\lib\\site-packages\\scipy\\stats\\_distn_infrastructure.py:879: RuntimeWarning: invalid value encountered in greater\n",
      "  return (self.a < x) & (x < self.b)\n",
      "C:\\ProgramData\\Anaconda3\\lib\\site-packages\\scipy\\stats\\_distn_infrastructure.py:879: RuntimeWarning: invalid value encountered in less\n",
      "  return (self.a < x) & (x < self.b)\n",
      "C:\\ProgramData\\Anaconda3\\lib\\site-packages\\scipy\\stats\\_distn_infrastructure.py:1821: RuntimeWarning: invalid value encountered in less_equal\n",
      "  cond2 = cond0 & (x <= self.a)\n"
     ]
    }
   ],
   "source": [
    "# Select the variables to make into dummies\n",
    "vars_for_dummies = ['signup_os', 'signup_channel', 'vehicle_make']\n",
    "\n",
    "# Create dummy variables for categorical data\n",
    "dummies = pd.get_dummies(dat_model[vars_for_dummies])\n",
    "\n",
    "dat_model_dummies = pd.concat([dat_model, dummies], axis=1)\n",
    "\n",
    "# Drop columns not used in modeling\n",
    "y = dat_model_dummies['y']\n",
    "\n",
    "vars_to_drop = ['index', 'id', 'city_name', 'signup_timestamp', \n",
    "                'bgc_date', 'vehicle_added_date', 'signup_os', \n",
    "                'signup_channel', 'vehicle_make', 'vehicle_model', \n",
    "                'first_completed_trip_timestamp', 'time_to_first_trip', \n",
    "                'time_since_signup', 'y']\n",
    "\n",
    "dat_model_dummies = dat_model_dummies.drop(vars_to_drop, axis=1)\n",
    "\n",
    "# Create train and test set data\n",
    "x_train, x_test, y_train, y_test = train_test_split(dat_model_dummies, y, test_size=0.25, random_state=0)\n",
    "\n",
    "# Fit the logistic regression model\n",
    "logisticRegr = sm.Logit(y_train, x_train)\n",
    "\n",
    "predictions = logisticRegr.fit()\n",
    "\n",
    "# Print the model performance\n",
    "print(predictions.summary2())"
   ]
  },
  {
   "cell_type": "code",
   "execution_count": 213,
   "metadata": {},
   "outputs": [
    {
     "data": {
      "text/plain": [
       "vehicle_year               1.0189\n",
       "time_to_bgc                1.0000\n",
       "signup_os_android web      0.0000\n",
       "signup_os_ios web          0.0000\n",
       "signup_os_mac              0.0000\n",
       "signup_os_other            0.0000\n",
       "signup_os_unknown          0.0000\n",
       "signup_os_windows          0.0000\n",
       "signup_channel_Dost        0.0000\n",
       "signup_channel_Organic     0.0000\n",
       "signup_channel_Paid        0.0000\n",
       "signup_channel_R2D         0.0000\n",
       "signup_channel_Referral    0.0000\n",
       "signup_channel_unknown     0.0000\n",
       "vehicle_make_Chevrolet     0.0001\n",
       "vehicle_make_Dodge         0.0002\n",
       "vehicle_make_Ford          0.0002\n",
       "vehicle_make_Honda         0.0002\n",
       "vehicle_make_Hyundai       0.0001\n",
       "vehicle_make_Kia           0.0002\n",
       "vehicle_make_Nissan        0.0002\n",
       "vehicle_make_Other         0.0002\n",
       "vehicle_make_Toyota        0.0002\n",
       "vehicle_make_unknown       0.0002\n",
       "dtype: float64"
      ]
     },
     "execution_count": 213,
     "metadata": {},
     "output_type": "execute_result"
    }
   ],
   "source": [
    "round(np.exp(predictions.params), 4)"
   ]
  },
  {
   "cell_type": "code",
   "execution_count": 214,
   "metadata": {},
   "outputs": [],
   "source": [
    "# Generate a logistic regression model using sklearn\n",
    "logisticRegr_2 = LogisticRegression()\n",
    "\n",
    "logisticRegr_2.fit(x_train, y_train)\n",
    "\n",
    "predictions_2 = logisticRegr_2.predict(x_test)"
   ]
  },
  {
   "cell_type": "code",
   "execution_count": 215,
   "metadata": {},
   "outputs": [
    {
     "data": {
      "text/plain": [
       "array([[-3.67221771e-05, -8.34969419e-06,  1.66121143e-02,\n",
       "         7.19260519e-02, -4.39085577e-02, -5.75899123e-03,\n",
       "        -3.58938465e-02, -3.52908880e-03, -3.95257237e-03,\n",
       "        -8.87169980e-02, -1.29591454e-01, -3.33131124e-02,\n",
       "         2.44907233e-01,  1.01145856e-02, -2.02380103e-02,\n",
       "        -6.38133566e-03,  1.05113063e-02, -2.58304778e-03,\n",
       "        -8.58442961e-03,  3.99520934e-03,  6.24228728e-03,\n",
       "        -3.26992302e-02,  5.07484759e-02, -1.56354335e-03]])"
      ]
     },
     "execution_count": 215,
     "metadata": {},
     "output_type": "execute_result"
    }
   ],
   "source": [
    "logisticRegr_2.coef_\n",
    "# Coefficients are very small"
   ]
  },
  {
   "cell_type": "code",
   "execution_count": 222,
   "metadata": {},
   "outputs": [
    {
     "data": {
      "text/plain": [
       "Text(0.5,257.44,'Predicted label')"
      ]
     },
     "execution_count": 222,
     "metadata": {},
     "output_type": "execute_result"
    },
    {
     "data": {
      "image/png": "[encoded data removed]",
      "text/plain": [
       "<matplotlib.figure.Figure at 0x2136f5fd0f0>"
      ]
     },
     "metadata": {},
     "output_type": "display_data"
    }
   ],
   "source": [
    "# Calculate confusion matrix\n",
    "cnf_matrix = metrics.confusion_matrix(y_test, predictions_2)\n",
    "\n",
    "\n",
    "# Plot confusion matrix\n",
    "plt.rcParams['figure.figsize'] = [6,4]\n",
    "class_names=[0,1] # name  of classes\n",
    "fig, ax = plt.subplots()\n",
    "tick_marks = np.arange(len(class_names))\n",
    "plt.xticks(tick_marks, class_names)\n",
    "plt.yticks(tick_marks, class_names)\n",
    "# create heatmap\n",
    "sns.heatmap(pd.DataFrame(cnf_matrix), annot=True, cmap=\"YlGnBu\" ,fmt='g')\n",
    "ax.xaxis.set_label_position(\"top\")\n",
    "plt.tight_layout()\n",
    "plt.title('Confusion matrix', y=1.1)\n",
    "plt.ylabel('Actual label')\n",
    "plt.xlabel('Predicted label')"
   ]
  },
  {
   "cell_type": "code",
   "execution_count": 219,
   "metadata": {},
   "outputs": [
    {
     "name": "stdout",
     "output_type": "stream",
     "text": [
      "Accuracy: 0.5436390532544378\n",
      "Precision: 0.5299145299145299\n",
      "Recall: 0.5644916540212443\n"
     ]
    }
   ],
   "source": [
    "print(\"Accuracy:\",metrics.accuracy_score(y_test, predictions_2))\n",
    "print(\"Precision:\",metrics.precision_score(y_test, predictions_2))\n",
    "print(\"Recall:\",metrics.recall_score(y_test, predictions_2))"
   ]
  },
  {
   "cell_type": "code",
   "execution_count": 223,
   "metadata": {},
   "outputs": [
    {
     "data": {
      "image/png": "[encoded data removed]",
      "text/plain": [
       "<matplotlib.figure.Figure at 0x2136f65aac8>"
      ]
     },
     "metadata": {},
     "output_type": "display_data"
    }
   ],
   "source": [
    "#Plot the ROC curve\n",
    "y_pred_proba = logisticRegr_2.predict_proba(x_test)[::,1]\n",
    "fpr, tpr, _ = metrics.roc_curve(y_test,  y_pred_proba)\n",
    "auc = metrics.roc_auc_score(y_test, y_pred_proba)\n",
    "plt.plot(fpr,tpr,label=\"data 1, auc=\"+str(auc))\n",
    "plt.legend(loc=4)\n",
    "plt.show()"
   ]
  },
  {
   "cell_type": "code",
   "execution_count": null,
   "metadata": {},
   "outputs": [],
   "source": []
  }
 ],
 "metadata": {
  "kernelspec": {
   "display_name": "Python 3",
   "language": "python",
   "name": "python3"
  },
  "language_info": {
   "codemirror_mode": {
    "name": "ipython",
    "version": 3
   },
   "file_extension": ".py",
   "mimetype": "text/x-python",
   "name": "python",
   "nbconvert_exporter": "python",
   "pygments_lexer": "ipython3",
   "version": "3.6.4"
  }
 },
 "nbformat": 4,
 "nbformat_minor": 2
}
